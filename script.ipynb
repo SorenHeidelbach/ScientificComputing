{
 "cells": [
  {
   "cell_type": "code",
   "execution_count": 1,
   "metadata": {},
   "outputs": [
    {
     "name": "stdout",
     "output_type": "stream",
     "text": [
      "How do I like to work?\n"
     ]
    }
   ],
   "source": [
    "\"\"\"\n",
    "This is for a short workflow demo\n",
    "\n",
    "\"\"\"\n",
    "\n",
    "import matplotlib.pyplot as plt\n",
    "import numpy as np\n",
    "\n",
    "print(\"How do I like to work?\")"
   ]
  },
  {
   "cell_type": "markdown",
   "metadata": {},
   "source": []
  },
  {
   "cell_type": "code",
   "execution_count": 10,
   "metadata": {},
   "outputs": [
    {
     "data": {
      "image/png": "[encoded data removed]",
      "text/plain": [
       "<Figure size 640x480 with 1 Axes>"
      ]
     },
     "metadata": {},
     "output_type": "display_data"
    }
   ],
   "source": [
    "x = np.linspace(0, 11, 100)\n",
    "plt.plot(x, np.sin(x))\n",
    "plt.show()"
   ]
  },
  {
   "cell_type": "code",
   "execution_count": null,
   "metadata": {},
   "outputs": [],
   "source": []
  },
  {
   "cell_type": "code",
   "execution_count": null,
   "metadata": {},
   "outputs": [],
   "source": []
  },
  {
   "attachments": {},
   "cell_type": "markdown",
   "metadata": {},
   "source": [
    "This is $\\sin(x)$ for $x \\in [0, 11]$"
   ]
  },
  {
   "cell_type": "code",
   "execution_count": 11,
   "metadata": {},
   "outputs": [
    {
     "name": "stdout",
     "output_type": "stream",
     "text": [
      "10 is greater than 2\n"
     ]
    }
   ],
   "source": [
    "if 10 > 2:\n",
    "    print(\"10 is greater than 2\")"
   ]
  },
  {
   "cell_type": "code",
   "execution_count": 12,
   "metadata": {},
   "outputs": [
    {
     "name": "stdout",
     "output_type": "stream",
     "text": [
      "b is greater than 2\n",
      "b is greater than 2\n"
     ]
    }
   ],
   "source": [
    "b = 3\n",
    "if b > 2:\n",
    "    print(\"b is greater than 2\")\n",
    "else:\n",
    "    print(\"b is not greater than 2\")\n",
    "\n",
    "if b > 2:\n",
    "    print(\"b is greater than 2\")\n",
    "elif b == 2:\n",
    "    print(\"b is equal to 2\")\n",
    "else:\n",
    "    print(\"b is less than 2\")"
   ]
  },
  {
   "cell_type": "code",
   "execution_count": 13,
   "metadata": {},
   "outputs": [
    {
     "data": {
      "text/plain": [
       "int"
      ]
     },
     "execution_count": 13,
     "metadata": {},
     "output_type": "execute_result"
    }
   ],
   "source": [
    "type(b)"
   ]
  },
  {
   "cell_type": "code",
   "execution_count": 22,
   "metadata": {},
   "outputs": [],
   "source": [
    "\n",
    "\n",
    "import keyword"
   ]
  },
  {
   "cell_type": "code",
   "execution_count": 23,
   "metadata": {},
   "outputs": [
    {
     "data": {
      "text/plain": [
       "['False',\n",
       " 'None',\n",
       " 'True',\n",
       " 'and',\n",
       " 'as',\n",
       " 'assert',\n",
       " 'async',\n",
       " 'await',\n",
       " 'break',\n",
       " 'class',\n",
       " 'continue',\n",
       " 'def',\n",
       " 'del',\n",
       " 'elif',\n",
       " 'else',\n",
       " 'except',\n",
       " 'finally',\n",
       " 'for',\n",
       " 'from',\n",
       " 'global',\n",
       " 'if',\n",
       " 'import',\n",
       " 'in',\n",
       " 'is',\n",
       " 'lambda',\n",
       " 'nonlocal',\n",
       " 'not',\n",
       " 'or',\n",
       " 'pass',\n",
       " 'raise',\n",
       " 'return',\n",
       " 'try',\n",
       " 'while',\n",
       " 'with',\n",
       " 'yield']"
      ]
     },
     "execution_count": 23,
     "metadata": {},
     "output_type": "execute_result"
    }
   ],
   "source": [
    "keyword.kwlist"
   ]
  },
  {
   "cell_type": "code",
   "execution_count": 25,
   "metadata": {},
   "outputs": [
    {
     "ename": "SyntaxError",
     "evalue": "cannot assign to False (2861791734.py, line 1)",
     "output_type": "error",
     "traceback": [
      "\u001b[0;36m  Cell \u001b[0;32mIn[25], line 1\u001b[0;36m\u001b[0m\n\u001b[0;31m    False = 2\u001b[0m\n\u001b[0m    ^\u001b[0m\n\u001b[0;31mSyntaxError\u001b[0m\u001b[0;31m:\u001b[0m cannot assign to False\n"
     ]
    }
   ],
   "source": [
    "False = 2"
   ]
  },
  {
   "cell_type": "code",
   "execution_count": 26,
   "metadata": {},
   "outputs": [
    {
     "ename": "TypeError",
     "evalue": "unsupported operand type(s) for +: 'int' and 'str'",
     "output_type": "error",
     "traceback": [
      "\u001b[0;31m---------------------------------------------------------------------------\u001b[0m",
      "\u001b[0;31mTypeError\u001b[0m                                 Traceback (most recent call last)",
      "Cell \u001b[0;32mIn[26], line 1\u001b[0m\n\u001b[0;32m----> 1\u001b[0m \u001b[39m2\u001b[39;49m \u001b[39m+\u001b[39;49m \u001b[39m\"\u001b[39;49m\u001b[39m2\u001b[39;49m\u001b[39m\"\u001b[39;49m\n",
      "\u001b[0;31mTypeError\u001b[0m: unsupported operand type(s) for +: 'int' and 'str'"
     ]
    }
   ],
   "source": [
    "2 + \"2\""
   ]
  },
  {
   "cell_type": "code",
   "execution_count": 27,
   "metadata": {},
   "outputs": [
    {
     "data": {
      "text/plain": [
       "0"
      ]
     },
     "execution_count": 27,
     "metadata": {},
     "output_type": "execute_result"
    }
   ],
   "source": [
    "9//10"
   ]
  },
  {
   "cell_type": "code",
   "execution_count": 28,
   "metadata": {},
   "outputs": [
    {
     "data": {
      "text/plain": [
       "0.0"
      ]
     },
     "execution_count": 28,
     "metadata": {},
     "output_type": "execute_result"
    }
   ],
   "source": [
    "9.0//10.0"
   ]
  },
  {
   "cell_type": "code",
   "execution_count": 29,
   "metadata": {},
   "outputs": [
    {
     "data": {
      "text/plain": [
       "7"
      ]
     },
     "execution_count": 29,
     "metadata": {},
     "output_type": "execute_result"
    }
   ],
   "source": [
    "30 // 4"
   ]
  },
  {
   "cell_type": "code",
   "execution_count": 32,
   "metadata": {},
   "outputs": [
    {
     "data": {
      "text/plain": [
       "7"
      ]
     },
     "execution_count": 32,
     "metadata": {},
     "output_type": "execute_result"
    }
   ],
   "source": [
    "3^4"
   ]
  },
  {
   "cell_type": "code",
   "execution_count": 38,
   "metadata": {},
   "outputs": [
    {
     "data": {
      "text/plain": [
       "False"
      ]
     },
     "execution_count": 38,
     "metadata": {},
     "output_type": "execute_result"
    }
   ],
   "source": [
    "(5 > 10) "
   ]
  },
  {
   "cell_type": "code",
   "execution_count": 54,
   "metadata": {},
   "outputs": [
    {
     "data": {
      "text/plain": [
       "True"
      ]
     },
     "execution_count": 54,
     "metadata": {},
     "output_type": "execute_result"
    }
   ],
   "source": [
    "a = 2.\n",
    "b = 2.\n",
    "# a and b are equal values\n",
    "a == b\n"
   ]
  },
  {
   "cell_type": "code",
   "execution_count": 55,
   "metadata": {},
   "outputs": [
    {
     "data": {
      "text/plain": [
       "False"
      ]
     },
     "execution_count": 55,
     "metadata": {},
     "output_type": "execute_result"
    }
   ],
   "source": [
    "# But point different placws in memory\n",
    "a is b"
   ]
  },
  {
   "cell_type": "code",
   "execution_count": 63,
   "metadata": {},
   "outputs": [
    {
     "name": "stdout",
     "output_type": "stream",
     "text": [
      "1 kasse øl, 2 kasser øl, 3 kasser øl, 4 kasser øl, 5 kasser øl, 6 kasser øl, 7 kasser øl, 8 kasser øl, 9 kasser øl, 10 kasser øl, "
     ]
    }
   ],
   "source": [
    "for x in range(10):\n",
    "    if x == 0:\n",
    "      print(x+1, end= \" kasse øl, \")\n",
    "    else:\n",
    "      print(x+1, end= \" kasser øl, \")\n",
    "       "
   ]
  },
  {
   "cell_type": "code",
   "execution_count": 79,
   "metadata": {},
   "outputs": [
    {
     "name": "stdout",
     "output_type": "stream",
     "text": [
      "Kun 1 øl. Vi skal ha' flere øl!\n",
      "Kun 2 øl. Vi skal ha' flere øl!\n",
      "Kun 3 øl. Vi skal ha' flere øl!\n",
      "Kun 4 øl. Vi skal ha' flere øl!\n",
      "Kun 5 øl. Vi skal ha' flere øl!\n",
      "Kun 6 øl. Vi skal ha' flere øl!\n",
      "Kun 7 øl. Vi skal ha' flere øl!\n",
      "Kun 8 øl. Vi skal ha' flere øl!\n",
      "Kun 9 øl. Vi skal ha' flere øl!\n",
      "Kun 10 øl. Vi skal ha' flere øl!\n",
      "Kun 11 øl. Vi skal ha' flere øl!\n",
      "Kun 12 øl. Vi skal ha' flere øl!\n",
      "Kun 13 øl. Vi skal ha' flere øl!\n",
      "Kun 14 øl. Vi skal ha' flere øl!\n",
      "Kun 15 øl. Vi skal ha' flere øl!\n",
      "Kun 16 øl. Vi skal ha' flere øl!\n",
      "Kun 17 øl. Vi skal ha' flere øl!\n",
      "Kun 18 øl. Vi skal ha' flere øl!\n",
      "Kun 19 øl. Vi skal ha' flere øl!\n",
      "Kun 20 øl. Vi skal ha' flere øl!\n",
      "Kun 21 øl. Vi skal ha' flere øl!\n",
      "Kun 22 øl. Vi skal ha' flere øl!\n",
      "Kun 23 øl. Vi skal ha' flere øl!\n",
      "Kun 24 øl. Vi skal ha' flere øl!\n",
      "Kun 25 øl. Vi skal ha' flere øl!\n",
      "Kun 26 øl. Vi skal ha' flere øl!\n",
      "Kun 27 øl. Vi skal ha' flere øl!\n",
      "Kun 28 øl. Vi skal ha' flere øl!\n",
      "Kun 29 øl. Vi skal ha' flere øl!\n",
      "Kun 30 øl. Vi skal ha' flere øl!\n",
      "Kun 31 øl. Vi skal ha' flere øl!\n",
      "Kun 32 øl. Vi skal ha' flere øl!\n",
      "Kun 33 øl. Vi skal ha' flere øl!\n",
      "Kun 34 øl. Vi skal ha' flere øl!\n",
      "Kun 35 øl. Vi skal ha' flere øl!\n",
      "Kun 36 øl. Vi skal ha' flere øl!\n",
      "Kun 37 øl. Vi skal ha' flere øl!\n",
      "Kun 38 øl. Vi skal ha' flere øl!\n",
      "Kun 39 øl. Vi skal ha' flere øl!\n",
      "Kun 40 øl. Vi skal ha' flere øl!\n",
      "Kun 41 øl. Vi skal ha' flere øl!\n",
      "Kun 42 øl. Vi skal ha' flere øl!\n",
      "Kun 43 øl. Vi skal ha' flere øl!\n",
      "Kun 44 øl. Vi skal ha' flere øl!\n",
      "Kun 45 øl. Vi skal ha' flere øl!\n",
      "Kun 46 øl. Vi skal ha' flere øl!\n",
      "Kun 47 øl. Vi skal ha' flere øl!\n",
      "Kun 48 øl. Vi skal ha' flere øl!\n",
      "Kun 49 øl. Vi skal ha' flere øl!\n",
      "Kun 50 øl. Vi skal ha' flere øl!\n",
      "Kun 51 øl. Vi skal ha' flere øl!\n",
      "Kun 52 øl. Vi skal ha' flere øl!\n",
      "Kun 53 øl. Vi skal ha' flere øl!\n",
      "Kun 54 øl. Vi skal ha' flere øl!\n",
      "Kun 55 øl. Vi skal ha' flere øl!\n",
      "Kun 56 øl. Vi skal ha' flere øl!\n",
      "Kun 57 øl. Vi skal ha' flere øl!\n",
      "Kun 58 øl. Vi skal ha' flere øl!\n",
      "Kun 59 øl. Vi skal ha' flere øl!\n",
      "Kun 60 øl. Vi skal ha' flere øl!\n",
      "Kun 61 øl. Vi skal ha' flere øl!\n",
      "Kun 62 øl. Vi skal ha' flere øl!\n",
      "Kun 63 øl. Vi skal ha' flere øl!\n",
      "Kun 64 øl. Vi skal ha' flere øl!\n",
      "Kun 65 øl. Vi skal ha' flere øl!\n",
      "Kun 66 øl. Vi skal ha' flere øl!\n",
      "Kun 67 øl. Vi skal ha' flere øl!\n",
      "Kun 68 øl. Vi skal ha' flere øl!\n",
      "Kun 69 øl. Vi skal ha' flere øl!\n",
      "Kun 70 øl. Vi skal ha' flere øl!\n",
      "Kun 71 øl. Vi skal ha' flere øl!\n",
      "Kun 72 øl. Vi skal ha' flere øl!\n",
      "Kun 73 øl. Vi skal ha' flere øl!\n",
      "Kun 74 øl. Vi skal ha' flere øl!\n",
      "Kun 75 øl. Vi skal ha' flere øl!\n",
      "Kun 76 øl. Vi skal ha' flere øl!\n",
      "Kun 77 øl. Vi skal ha' flere øl!\n",
      "Kun 78 øl. Vi skal ha' flere øl!\n",
      "Kun 79 øl. Vi skal ha' flere øl!\n",
      "Kun 80 øl. Vi skal ha' flere øl!\n",
      "Kun 81 øl. Vi skal ha' flere øl!\n",
      "Kun 82 øl. Vi skal ha' flere øl!\n",
      "Kun 83 øl. Vi skal ha' flere øl!\n",
      "Kun 84 øl. Vi skal ha' flere øl!\n",
      "Kun 85 øl. Vi skal ha' flere øl!\n",
      "Kun 86 øl. Vi skal ha' flere øl!\n",
      "Kun 87 øl. Vi skal ha' flere øl!\n",
      "Kun 88 øl. Vi skal ha' flere øl!\n",
      "Kun 89 øl. Vi skal ha' flere øl!\n",
      "Kun 90 øl. Vi skal ha' flere øl!\n",
      "Kun 91 øl. Vi skal ha' flere øl!\n",
      "Kun 92 øl. Vi skal ha' flere øl!\n",
      "Kun 93 øl. Vi skal ha' flere øl!\n",
      "Kun 94 øl. Vi skal ha' flere øl!\n",
      "Kun 95 øl. Vi skal ha' flere øl!\n",
      "Kun 96 øl. Vi skal ha' flere øl!\n",
      "Kun 97 øl. Vi skal ha' flere øl!\n",
      "Kun 98 øl. Vi skal ha' flere øl!\n",
      "Kun 99 øl. Vi skal ha' flere øl!\n",
      "Kun 100 øl. Vi skal ha' flere øl!\n",
      "100 øl, det er nok! \n"
     ]
    }
   ],
   "source": [
    "x = 0\n",
    "while x < 100:\n",
    "    x += 1\n",
    "    print(\"Kun \" + str(x) + \" øl.\" + \" Vi skal ha\\' flere øl!\")\n",
    "print(str(x) + \" øl,\", end= \" det er nok! \\n\")"
   ]
  },
  {
   "cell_type": "code",
   "execution_count": 70,
   "metadata": {},
   "outputs": [
    {
     "data": {
      "text/plain": [
       "100"
      ]
     },
     "execution_count": 70,
     "metadata": {},
     "output_type": "execute_result"
    }
   ],
   "source": [
    "x"
   ]
  },
  {
   "attachments": {},
   "cell_type": "markdown",
   "metadata": {},
   "source": [
    "### Excercise 1"
   ]
  },
  {
   "cell_type": "code",
   "execution_count": 75,
   "metadata": {},
   "outputs": [],
   "source": []
  },
  {
   "cell_type": "code",
   "execution_count": 83,
   "metadata": {},
   "outputs": [
    {
     "name": "stdout",
     "output_type": "stream",
     "text": [
      "0 2 4 6 8 10 12 14 16 18 20 22 24 26 28 30 32 34 36 38 40 42 44 46 48 50 "
     ]
    }
   ],
   "source": [
    "iter =0\n",
    "while iter <= 50:\n",
    "    if not iter % 2:\n",
    "        print(iter, end = \" \")\n",
    "    iter += 1"
   ]
  },
  {
   "cell_type": "code",
   "execution_count": 86,
   "metadata": {},
   "outputs": [
    {
     "name": "stdout",
     "output_type": "stream",
     "text": [
      "2\n"
     ]
    }
   ],
   "source": [
    "if 1:\n",
    "    print(2)"
   ]
  },
  {
   "cell_type": "code",
   "execution_count": 9,
   "metadata": {},
   "outputs": [],
   "source": [
    "def divisable(x, divisor = 2, verbose = False):\n",
    "    if  not x % divisor:\n",
    "        if verbose:\n",
    "            print(str(x) + \" is divisable by \" + str(divisor))\n",
    "        return True, x/divisor, 2\n",
    "    else:\n",
    "        if verbose:\n",
    "            print(str(x) + \" is not divisable by \" + str(divisor))\n",
    "        return False, x/divisor, 2"
   ]
  },
  {
   "cell_type": "code",
   "execution_count": 7,
   "metadata": {},
   "outputs": [
    {
     "name": "stdout",
     "output_type": "stream",
     "text": [
      "10 is not divisable by 3\n"
     ]
    },
    {
     "data": {
      "text/plain": [
       "(False, 3.3333333333333335)"
      ]
     },
     "execution_count": 7,
     "metadata": {},
     "output_type": "execute_result"
    }
   ],
   "source": [
    "x = divisable(10, verbose = True, divisor = 3)\n",
    "x"
   ]
  },
  {
   "cell_type": "code",
   "execution_count": 8,
   "metadata": {},
   "outputs": [
    {
     "data": {
      "text/plain": [
       "((1, 2), 4)"
      ]
     },
     "execution_count": 8,
     "metadata": {},
     "output_type": "execute_result"
    }
   ],
   "source": [
    "(1, 2), 4"
   ]
  },
  {
   "cell_type": "code",
   "execution_count": 107,
   "metadata": {},
   "outputs": [
    {
     "name": "stdout",
     "output_type": "stream",
     "text": [
      "\u001b[0;31mSignature:\u001b[0m \u001b[0mdivisable\u001b[0m\u001b[0;34m(\u001b[0m\u001b[0mx\u001b[0m\u001b[0;34m,\u001b[0m \u001b[0mdivisor\u001b[0m\u001b[0;34m)\u001b[0m\u001b[0;34m\u001b[0m\u001b[0;34m\u001b[0m\u001b[0m\n",
      "\u001b[0;31mDocstring:\u001b[0m <no docstring>\n",
      "\u001b[0;31mFile:\u001b[0m      /tmp/ipykernel_506/1634953423.py\n",
      "\u001b[0;31mType:\u001b[0m      function"
     ]
    }
   ],
   "source": [
    "divisable?"
   ]
  },
  {
   "cell_type": "code",
   "execution_count": 13,
   "metadata": {},
   "outputs": [
    {
     "name": "stdout",
     "output_type": "stream",
     "text": [
      "10 is not divisable by 3\n"
     ]
    }
   ],
   "source": [
    "a, _, _ = divisable(10, verbose = True, divisor = 3)"
   ]
  },
  {
   "cell_type": "code",
   "execution_count": 11,
   "metadata": {},
   "outputs": [
    {
     "data": {
      "text/plain": [
       "False"
      ]
     },
     "execution_count": 11,
     "metadata": {},
     "output_type": "execute_result"
    }
   ],
   "source": [
    "a"
   ]
  },
  {
   "cell_type": "code",
   "execution_count": 14,
   "metadata": {},
   "outputs": [],
   "source": [
    "a = 2"
   ]
  },
  {
   "cell_type": "code",
   "execution_count": 15,
   "metadata": {},
   "outputs": [],
   "source": [
    "b = 4\n",
    "c = [1, 2, 3, 4, 5]"
   ]
  },
  {
   "cell_type": "code",
   "execution_count": 16,
   "metadata": {},
   "outputs": [
    {
     "data": {
      "text/plain": [
       "[3, 4]"
      ]
     },
     "execution_count": 16,
     "metadata": {},
     "output_type": "execute_result"
    }
   ],
   "source": [
    "c[a:b]"
   ]
  },
  {
   "cell_type": "code",
   "execution_count": 17,
   "metadata": {},
   "outputs": [
    {
     "ename": "SyntaxError",
     "evalue": "invalid syntax (2667839486.py, line 1)",
     "output_type": "error",
     "traceback": [
      "\u001b[0;36m  Cell \u001b[0;32mIn[17], line 1\u001b[0;36m\u001b[0m\n\u001b[0;31m    d = 1:3\u001b[0m\n\u001b[0m         ^\u001b[0m\n\u001b[0;31mSyntaxError\u001b[0m\u001b[0;31m:\u001b[0m invalid syntax\n"
     ]
    }
   ],
   "source": []
  },
  {
   "cell_type": "code",
   "execution_count": null,
   "metadata": {},
   "outputs": [],
   "source": []
  },
  {
   "attachments": {},
   "cell_type": "markdown",
   "metadata": {},
   "source": [
    "## Exercise 4\n"
   ]
  },
  {
   "cell_type": "code",
   "execution_count": 29,
   "metadata": {},
   "outputs": [],
   "source": [
    "def range_integers_even(maxval):\n",
    "    integers = []\n",
    "    for i in range(maxval):\n",
    "        i+=1\n",
    "        if not (i) % 2:\n",
    "            integers.append(i)\n",
    "    return integers"
   ]
  },
  {
   "cell_type": "code",
   "execution_count": 30,
   "metadata": {},
   "outputs": [
    {
     "data": {
      "text/plain": [
       "[2, 4, 6, 8, 10]"
      ]
     },
     "execution_count": 30,
     "metadata": {},
     "output_type": "execute_result"
    }
   ],
   "source": [
    "x = range_integers_even(10)\n",
    "x"
   ]
  },
  {
   "cell_type": "code",
   "execution_count": 33,
   "metadata": {},
   "outputs": [
    {
     "data": {
      "text/plain": [
       "[2, 4, 6, 8]"
      ]
     },
     "execution_count": 33,
     "metadata": {},
     "output_type": "execute_result"
    }
   ],
   "source": [
    "[i for i in range(1, 10) if not i % 2]"
   ]
  },
  {
   "cell_type": "code",
   "execution_count": 34,
   "metadata": {},
   "outputs": [
    {
     "name": "stdout",
     "output_type": "stream",
     "text": [
      "1 6\n",
      "2 7\n",
      "3 8\n"
     ]
    }
   ],
   "source": [
    "A = [1,2,3]\n",
    "B = [6,7,8]\n",
    "\n",
    "for a, b in zip(A, B):\n",
    "    print(a, b)"
   ]
  },
  {
   "cell_type": "code",
   "execution_count": 35,
   "metadata": {},
   "outputs": [
    {
     "name": "stdout",
     "output_type": "stream",
     "text": [
      "0 1\n",
      "1 2\n",
      "2 3\n"
     ]
    }
   ],
   "source": [
    "for i, a in enumerate(A):\n",
    "    print(i, a)"
   ]
  },
  {
   "cell_type": "code",
   "execution_count": 43,
   "metadata": {},
   "outputs": [
    {
     "data": {
      "text/plain": [
       "'     3.14'"
      ]
     },
     "execution_count": 43,
     "metadata": {},
     "output_type": "execute_result"
    }
   ],
   "source": [
    "\"{:9.2f}\".format(3.141592653589793)"
   ]
  },
  {
   "cell_type": "code",
   "execution_count": 51,
   "metadata": {},
   "outputs": [
    {
     "data": {
      "text/plain": [
       "'hello  4.35e+05  world'"
      ]
     },
     "execution_count": 51,
     "metadata": {},
     "output_type": "execute_result"
    }
   ],
   "source": [
    "test_str = 435243.1321232131\n",
    "f\"hello {test_str:^10.2e} world\""
   ]
  },
  {
   "cell_type": "code",
   "execution_count": 55,
   "metadata": {},
   "outputs": [
    {
     "data": {
      "text/plain": [
       "'The integer number is 1 and the floating-point number is 5.777777777777778'"
      ]
     },
     "execution_count": 55,
     "metadata": {},
     "output_type": "execute_result"
    }
   ],
   "source": [
    "var_int = 1\n",
    "var_float = 5.77777777777777777777777777777777777777777777777777777777777777777777777777777777777777777777777777777777777777777777777777777777777777777777777\n",
    "f\"The integer number is {var_int} and the floating-point number is {var_float}\""
   ]
  },
  {
   "cell_type": "code",
   "execution_count": 56,
   "metadata": {},
   "outputs": [],
   "source": [
    "\n",
    "import math"
   ]
  },
  {
   "cell_type": "code",
   "execution_count": 63,
   "metadata": {},
   "outputs": [
    {
     "data": {
      "text/plain": [
       "1.0"
      ]
     },
     "execution_count": 63,
     "metadata": {},
     "output_type": "execute_result"
    }
   ],
   "source": [
    "math.sin(math.pi/2)"
   ]
  },
  {
   "cell_type": "code",
   "execution_count": 65,
   "metadata": {},
   "outputs": [],
   "source": [
    "with open(\"nice_file.txt\", \"w\") as f:\n",
    "    f.write(\"Hello World!\\n\")"
   ]
  },
  {
   "cell_type": "code",
   "execution_count": 66,
   "metadata": {},
   "outputs": [
    {
     "name": "stdout",
     "output_type": "stream",
     "text": [
      "-rw-r--r-- 1 shei shei 13 Jun 12 14:52 nice_file.txt\n"
     ]
    }
   ],
   "source": [
    "%ls -l nice_file.txt"
   ]
  },
  {
   "cell_type": "code",
   "execution_count": 70,
   "metadata": {},
   "outputs": [
    {
     "data": {
      "text/plain": [
       "<_io.TextIOWrapper name='nice_file.txt' mode='r' encoding='UTF-8'>"
      ]
     },
     "execution_count": 70,
     "metadata": {},
     "output_type": "execute_result"
    }
   ],
   "source": [
    "f"
   ]
  },
  {
   "cell_type": "code",
   "execution_count": 69,
   "metadata": {},
   "outputs": [
    {
     "name": "stdout",
     "output_type": "stream",
     "text": [
      "Hello World!\n",
      "\n"
     ]
    }
   ],
   "source": [
    "with open(\"nice_file.txt\", \"r\") as f:\n",
    "    print(f.read())"
   ]
  },
  {
   "cell_type": "code",
   "execution_count": null,
   "metadata": {},
   "outputs": [],
   "source": []
  }
 ],
 "metadata": {
  "kernelspec": {
   "display_name": "sci_comp",
   "language": "python",
   "name": "python3"
  },
  "language_info": {
   "codemirror_mode": {
    "name": "ipython",
    "version": 3
   },
   "file_extension": ".py",
   "mimetype": "text/x-python",
   "name": "python",
   "nbconvert_exporter": "python",
   "pygments_lexer": "ipython3",
   "version": "3.10.11"
  },
  "vscode": {
   "interpreter": {
    "hash": "262e86344d83e0509dcba092caf8afa2285d16567665f24791254f5772cf312a"
   }
  }
 },
 "nbformat": 4,
 "nbformat_minor": 1
}
