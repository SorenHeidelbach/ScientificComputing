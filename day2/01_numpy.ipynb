{
 "cells": [
  {
   "cell_type": "markdown",
   "metadata": {
    "slideshow": {
     "slide_type": "slide"
    }
   },
   "source": [
    "# Scientific Computing Using Python – Introduction\n",
    "\n",
    "## Basic Scientific Computing Packages\n",
    "\n",
    "<br/>\n",
    "<div align=\"center\">13th of June, 2023</div>\n",
    "<br/>\n",
    "<div align=\"center\">\n",
    "    Thomas Arildsen<br/>\n",
    "    <a href=\"mailto:tari@its.aau.dk\">tari@its.aau.dk</a>\n",
    "<div/>\n",
    "<br/>\n",
    "<div align=\"center\">\n",
    "CLAAUDIA<br/>\n",
    "Aalborg University\n",
    "</div>"
   ]
  },
  {
   "cell_type": "markdown",
   "metadata": {
    "slideshow": {
     "slide_type": "slide"
    }
   },
   "source": [
    "# Basic Scientific Computing Packages\n",
    "\n",
    "## Agenda\n",
    "\n",
    "  * Introduction\n",
    "  * Vectors\n",
    "  * NumPy Arrays\n",
    "  * Vectorising Operations\n",
    "  * More About Arrays\n",
    "  * Pandas and Tabular Data\n",
    "  * Visualising Data (Plotting Curves)\n",
    "  * Data Storage\n",
    "  * Additional Scientific Packages\n",
    "  * Summary"
   ]
  },
  {
   "cell_type": "markdown",
   "metadata": {
    "slideshow": {
     "slide_type": "slide"
    }
   },
   "source": [
    "# Introduction"
   ]
  },
  {
   "cell_type": "markdown",
   "metadata": {
    "slideshow": {
     "slide_type": "slide"
    }
   },
   "source": [
    "## Scientific Computing"
   ]
  },
  {
   "cell_type": "markdown",
   "metadata": {
    "slideshow": {
     "slide_type": "subslide"
    }
   },
   "source": [
    "### Available functionality\n",
    "\n",
    "  * So far, we have looked at basic Python functionality.\n",
    "  * The Python “ecosystem” is rife with scientific computing functionality.\n",
    "  * A few canonical packages form the backbone of scientific computing in Python.\n",
    "  * In this part we will introduce you to the main functionality of some major workhorses.\n",
    "  * We will introduce you briefly to a selection of additional packages that you can explore on your own."
   ]
  },
  {
   "cell_type": "markdown",
   "metadata": {
    "slideshow": {
     "slide_type": "subslide"
    }
   },
   "source": [
    "### Efficient computing\n",
    "\n",
    "  * Scientific computing often about large amounts of data.\n",
    "  * We want to be able to compute efficiently **and** easily."
   ]
  },
  {
   "cell_type": "markdown",
   "metadata": {
    "slideshow": {
     "slide_type": "fragment"
    }
   },
   "source": [
    "  * Python makes it easy, how about efficient?"
   ]
  },
  {
   "cell_type": "markdown",
   "metadata": {
    "slideshow": {
     "slide_type": "fragment"
    }
   },
   "source": [
    "  * `NumPy` to the rescue. Makes numerical computations on vectors, matrices etc. efficient (Matlab-like).\n",
    "  * Knowing NumPy arrays can also help understand tensors in TensorFlow and PyTorch."
   ]
  },
  {
   "cell_type": "markdown",
   "metadata": {
    "slideshow": {
     "slide_type": "subslide"
    }
   },
   "source": [
    "### Tabular data\n",
    "- Often it is also useful to be able to handle tabular data; i.e. where the data are various fields (columns) that have a lot of observations (rows) of.\n",
    "- NumPy can do this (in a crude way).\n",
    "- Another tool, however, makes this somewhat more intuitive and is better suited for statistical and exploratory data analysis"
   ]
  },
  {
   "cell_type": "markdown",
   "metadata": {
    "slideshow": {
     "slide_type": "fragment"
    }
   },
   "source": [
    "- Pandas supplements NumPy very well in this area."
   ]
  },
  {
   "cell_type": "markdown",
   "metadata": {
    "slideshow": {
     "slide_type": "slide"
    }
   },
   "source": [
    "## Visualisation"
   ]
  },
  {
   "cell_type": "markdown",
   "metadata": {
    "slideshow": {
     "slide_type": "subslide"
    }
   },
   "source": [
    "### Visual perception\n",
    "\n",
    "  * As you can probably recognise from yourselves, we as humans are quite visually oriented in the way we perceive the world around us.\n",
    "  * Reading through a large amount of numbers (list, table etc.) does not give us a very good overview of the data or ability to compare the numbers.\n",
    "  * Therefore it usually makes most sense for us to visualise (plot) the data we want to study.\n",
    "  * So, today we will also introduce ways of plotting data and what to be aware of when doing so in Python."
   ]
  },
  {
   "cell_type": "markdown",
   "metadata": {
    "slideshow": {
     "slide_type": "slide"
    }
   },
   "source": [
    "## Storage"
   ]
  },
  {
   "cell_type": "markdown",
   "metadata": {
    "slideshow": {
     "slide_type": "subslide"
    }
   },
   "source": [
    "### Storing data\n",
    "\n",
    "* In addition to computing on large amounts of data, we of course also need to be able to store and load the data.\n",
    "* There are Python facilities for doing this efficiently.\n",
    "* Interface to industry-standard storage format for larger-scale data storage needs."
   ]
  },
  {
   "cell_type": "markdown",
   "metadata": {
    "slideshow": {
     "slide_type": "slide"
    }
   },
   "source": [
    "## Additional Scientific Functionality"
   ]
  },
  {
   "cell_type": "markdown",
   "metadata": {
    "slideshow": {
     "slide_type": "subslide"
    }
   },
   "source": [
    "### More specialised packages\n",
    "\n",
    "* In various areas of research we typically have more specilised types of operations, analyses etc. that we need to perform.\n",
    "* Python packages for a large part of such functionality as well.\n",
    "* Can be extended through a large number of specialised add-on packages (e.g. for machine learning, differential equations, image processing etc.)."
   ]
  },
  {
   "cell_type": "markdown",
   "metadata": {
    "slideshow": {
     "slide_type": "slide"
    }
   },
   "source": [
    "## Also note\n",
    "\n",
    "*Several of the scripts in this presentation have been built from examples in the book: Hans Petter Langtangen, \"A Primer on Scientific Programming with Python\", available at http://hplgit.github.io/scipro-primer/*"
   ]
  },
  {
   "cell_type": "markdown",
   "metadata": {
    "slideshow": {
     "slide_type": "slide"
    }
   },
   "source": [
    "## Intended learning outcomes"
   ]
  },
  {
   "cell_type": "markdown",
   "metadata": {
    "slideshow": {
     "slide_type": "subslide"
    }
   },
   "source": [
    "### After today’s course you will have knowledge about:\n",
    "\n",
    "* Basics of vectors and matrices and operations on these.\n",
    "* Using (NumPy) arrays in Python.\n",
    "* Vectorising operations in Python.\n",
    "* Using Pandas Series and Dataframes.\n",
    "* Visualising tabular data in Pandas.\n",
    "* Visualising data more generally in Seaborn.\n",
    "* Storing/loading data efficiently to/from disk.\n",
    "* Overview of additional scientific packages."
   ]
  },
  {
   "cell_type": "markdown",
   "metadata": {
    "slideshow": {
     "slide_type": "subslide"
    }
   },
   "source": [
    "### You will be able to:\n",
    "\n",
    "* Generate and process data in (NumPy) arrays.\n",
    "* Load and process data in Pandas.\n",
    "* Plot the data in various ways.\n",
    "* Store/load numerical data to/from disk."
   ]
  },
  {
   "cell_type": "markdown",
   "metadata": {
    "slideshow": {
     "slide_type": "slide"
    }
   },
   "source": [
    "# Vectors"
   ]
  },
  {
   "cell_type": "markdown",
   "metadata": {
    "slideshow": {
     "slide_type": "subslide"
    }
   },
   "source": [
    "## Recapitulating vector basics"
   ]
  },
  {
   "cell_type": "markdown",
   "metadata": {
    "slideshow": {
     "slide_type": "fragment"
    }
   },
   "source": [
    "* I assume you are all very familiar with vectors and matrices.\n",
    "\n",
    "  Often seen as coordinates of points in 2, or maybe 3 dimensions\n",
    "\n",
    "    $$\\begin{align*}\n",
    "      \\begin{pmatrix}\n",
    "        x & y\n",
    "      \\end{pmatrix}\n",
    "      &&\n",
    "      \\begin{pmatrix}\n",
    "        x\\\\\n",
    "        y\n",
    "      \\end{pmatrix}\n",
    "      &&\n",
    "      \\begin{bmatrix}\n",
    "        x\\\\\n",
    "        y\n",
    "      \\end{bmatrix}\n",
    "      &&\n",
    "      \\begin{bmatrix}\n",
    "        x\\\\\n",
    "        y\\\\\n",
    "        z\n",
    "      \\end{bmatrix} = \\begin{bmatrix}\n",
    "        x & y & z\n",
    "      \\end{bmatrix}^\\mathsf{T}\n",
    "    \\end{align*}$$"
   ]
  },
  {
   "cell_type": "markdown",
   "metadata": {
    "slideshow": {
     "slide_type": "slide"
    }
   },
   "source": [
    "### Vectors in Python – lists?\n",
    "\n",
    "*Can* we use lists as vectors in Python?"
   ]
  },
  {
   "cell_type": "markdown",
   "metadata": {
    "slideshow": {
     "slide_type": "fragment"
    }
   },
   "source": [
    "Yes"
   ]
  },
  {
   "cell_type": "code",
   "execution_count": 1,
   "metadata": {
    "slideshow": {
     "slide_type": "-"
    }
   },
   "outputs": [
    {
     "data": {
      "text/plain": [
       "[[0.0, 0.0], [0.25, 0.015625], [0.5, 0.125], [0.75, 0.421875], [1.0, 1.0]]"
      ]
     },
     "execution_count": 1,
     "metadata": {},
     "output_type": "execute_result"
    }
   ],
   "source": [
    "def f(x):\n",
    "    return x**3       # Sample function\n",
    "\n",
    "n = 5\n",
    "dx = 1.0/(n-1)\n",
    "xlist = [i*dx for i in range(n)]\n",
    "ylist = [f(x) for x in xlist]\n",
    "pairs = [[x, y] for x, y in zip(xlist, ylist)]\n",
    "pairs"
   ]
  },
  {
   "cell_type": "markdown",
   "metadata": {
    "slideshow": {
     "slide_type": "fragment"
    }
   },
   "source": [
    "But we should not! Why?"
   ]
  },
  {
   "cell_type": "markdown",
   "metadata": {
    "slideshow": {
     "slide_type": "subslide"
    }
   },
   "source": [
    "### Advantages/disadvantages of lists\n",
    "\n",
    "Advantages\n",
    "\n",
    "* Lists are very versatile. The elements can be a mixture of several different data types:"
   ]
  },
  {
   "cell_type": "code",
   "execution_count": 2,
   "metadata": {
    "slideshow": {
     "slide_type": "-"
    }
   },
   "outputs": [],
   "source": [
    "mylist = [2, 6.0, 'some text', [0,1]]"
   ]
  },
  {
   "cell_type": "markdown",
   "metadata": {
    "slideshow": {
     "slide_type": "-"
    }
   },
   "source": [
    "* You can add or remove elements (grow or shrink) anywhere in the list."
   ]
  },
  {
   "cell_type": "markdown",
   "metadata": {
    "slideshow": {
     "slide_type": "subslide"
    }
   },
   "source": [
    "Disadvantages\n",
    "\n",
    "* Slow.\n",
    "* Memory-consuming.\n",
    "* Limited mathematical operations on lists."
   ]
  },
  {
   "cell_type": "markdown",
   "metadata": {
    "slideshow": {
     "slide_type": "fragment"
    }
   },
   "source": [
    "For the vector-like data, we do not need the advantages and we do not like the disadvantages. Now what?"
   ]
  },
  {
   "cell_type": "markdown",
   "metadata": {
    "slideshow": {
     "slide_type": "slide"
    }
   },
   "source": [
    "# NumPy Arrays"
   ]
  },
  {
   "cell_type": "markdown",
   "metadata": {
    "slideshow": {
     "slide_type": "subslide"
    }
   },
   "source": [
    "## A data container for vector-like data\n",
    "\n",
    "A more suitable alternative to lists for vector-like data is arrays.\n",
    "\n",
    "* NumPy arrays – not standard Python arrays.\n",
    "* We need the Numerical Python ([NumPy](http://www.numpy.org/)) package:"
   ]
  },
  {
   "cell_type": "code",
   "execution_count": 3,
   "metadata": {
    "slideshow": {
     "slide_type": "fragment"
    }
   },
   "outputs": [],
   "source": [
    "import numpy as np"
   ]
  },
  {
   "cell_type": "markdown",
   "metadata": {
    "slideshow": {
     "slide_type": "fragment"
    }
   },
   "source": [
    "* All entries must be of same type – preferably integer, floating-point, or complex for efficient computation.\n",
    "* The size of the array (vector) is known and fixed when you create it (inefficient to change).\n",
    "* Many operations in NumPy can be done directly on arrays – **vectorisation**."
   ]
  },
  {
   "cell_type": "markdown",
   "metadata": {
    "slideshow": {
     "slide_type": "subslide"
    }
   },
   "source": [
    "## Basic construction\n",
    "\n",
    "NumPy arrays (from now on just “arrays”) can be constructed in a number of ways."
   ]
  },
  {
   "cell_type": "markdown",
   "metadata": {
    "slideshow": {
     "slide_type": "fragment"
    }
   },
   "source": [
    "* Convert from a list (not efficient but possible and convenient for small arrays)"
   ]
  },
  {
   "cell_type": "code",
   "execution_count": 8,
   "metadata": {
    "slideshow": {
     "slide_type": "-"
    }
   },
   "outputs": [
    {
     "data": {
      "text/plain": [
       "array([1, 2, 3])"
      ]
     },
     "execution_count": 8,
     "metadata": {},
     "output_type": "execute_result"
    }
   ],
   "source": [
    "a = np.array([1, 2, 3])\n",
    "a"
   ]
  },
  {
   "cell_type": "markdown",
   "metadata": {
    "slideshow": {
     "slide_type": "fragment"
    }
   },
   "source": [
    "* Create a zero array"
   ]
  },
  {
   "cell_type": "code",
   "execution_count": 9,
   "metadata": {
    "slideshow": {
     "slide_type": "-"
    }
   },
   "outputs": [
    {
     "data": {
      "text/plain": [
       "array([0., 0., 0.])"
      ]
     },
     "execution_count": 9,
     "metadata": {},
     "output_type": "execute_result"
    }
   ],
   "source": [
    "n = 3\n",
    "b = np.zeros(n)\n",
    "b"
   ]
  },
  {
   "cell_type": "markdown",
   "metadata": {
    "slideshow": {
     "slide_type": "subslide"
    }
   },
   "source": [
    "* Create a zero array of specified type"
   ]
  },
  {
   "cell_type": "code",
   "execution_count": 10,
   "metadata": {
    "slideshow": {
     "slide_type": "-"
    }
   },
   "outputs": [
    {
     "data": {
      "text/plain": [
       "array([0, 0, 0])"
      ]
     },
     "execution_count": 10,
     "metadata": {},
     "output_type": "execute_result"
    }
   ],
   "source": [
    "c = np.zeros_like(a)\n",
    "c"
   ]
  },
  {
   "cell_type": "code",
   "execution_count": 12,
   "metadata": {
    "slideshow": {
     "slide_type": "-"
    }
   },
   "outputs": [
    {
     "data": {
      "text/plain": [
       "dtype('int64')"
      ]
     },
     "execution_count": 12,
     "metadata": {},
     "output_type": "execute_result"
    }
   ],
   "source": [
    "c.dtype"
   ]
  },
  {
   "cell_type": "markdown",
   "metadata": {
    "slideshow": {
     "slide_type": "fragment"
    }
   },
   "source": [
    "* Create uniformly spaced values defined by number of values"
   ]
  },
  {
   "cell_type": "code",
   "execution_count": 13,
   "metadata": {
    "slideshow": {
     "slide_type": "-"
    }
   },
   "outputs": [
    {
     "data": {
      "text/plain": [
       "array([ 0.33333333,  2.47575758,  4.61818182,  6.76060606,  8.9030303 ,\n",
       "       11.04545455, 13.18787879, 15.33030303, 17.47272727, 19.61515152,\n",
       "       21.75757576, 23.9       ])"
      ]
     },
     "execution_count": 13,
     "metadata": {},
     "output_type": "execute_result"
    }
   ],
   "source": [
    "d = np.linspace(1/3, 23.9, 12)\n",
    "d"
   ]
  },
  {
   "cell_type": "markdown",
   "metadata": {
    "slideshow": {
     "slide_type": "fragment"
    }
   },
   "source": [
    "* Create range of numbers defined by spacing (usually integers)"
   ]
  },
  {
   "cell_type": "code",
   "execution_count": 15,
   "metadata": {
    "slideshow": {
     "slide_type": "-"
    }
   },
   "outputs": [
    {
     "data": {
      "text/plain": [
       "array([ 2,  4,  6,  8, 10, 12, 14, 16])"
      ]
     },
     "execution_count": 15,
     "metadata": {},
     "output_type": "execute_result"
    }
   ],
   "source": [
    "e = np.arange(2, 18, 2)\n",
    "e"
   ]
  },
  {
   "cell_type": "markdown",
   "metadata": {
    "slideshow": {
     "slide_type": "subslide"
    }
   },
   "source": [
    "## Indexing\n",
    "\n",
    "Arrays are indexed the same way as lists and tuples"
   ]
  },
  {
   "cell_type": "code",
   "execution_count": 16,
   "metadata": {
    "slideshow": {
     "slide_type": "-"
    }
   },
   "outputs": [
    {
     "data": {
      "text/plain": [
       "3"
      ]
     },
     "execution_count": 16,
     "metadata": {},
     "output_type": "execute_result"
    }
   ],
   "source": [
    "a[2]"
   ]
  },
  {
   "cell_type": "markdown",
   "metadata": {
    "slideshow": {
     "slide_type": "fragment"
    }
   },
   "source": [
    "* Slices"
   ]
  },
  {
   "cell_type": "code",
   "execution_count": 17,
   "metadata": {
    "slideshow": {
     "slide_type": "-"
    }
   },
   "outputs": [
    {
     "data": {
      "text/plain": [
       "array([2])"
      ]
     },
     "execution_count": 17,
     "metadata": {},
     "output_type": "execute_result"
    }
   ],
   "source": [
    "a[1:-1]\n"
   ]
  },
  {
   "cell_type": "markdown",
   "metadata": {
    "slideshow": {
     "slide_type": "fragment"
    }
   },
   "source": [
    "* Indexed parts of an array are not copies of this part of the array"
   ]
  },
  {
   "cell_type": "code",
   "execution_count": 18,
   "metadata": {
    "slideshow": {
     "slide_type": "-"
    }
   },
   "outputs": [
    {
     "data": {
      "text/plain": [
       "array([1, 0, 3])"
      ]
     },
     "execution_count": 18,
     "metadata": {},
     "output_type": "execute_result"
    }
   ],
   "source": [
    "b = a[1:-1]\n",
    "b[0] = 0\n",
    "a"
   ]
  },
  {
   "cell_type": "code",
   "execution_count": 19,
   "metadata": {
    "slideshow": {
     "slide_type": "fragment"
    }
   },
   "outputs": [
    {
     "name": "stdout",
     "output_type": "stream",
     "text": [
      "\u001b[0;31mSignature:\u001b[0m \u001b[0mnp\u001b[0m\u001b[0;34m.\u001b[0m\u001b[0mcopy\u001b[0m\u001b[0;34m(\u001b[0m\u001b[0ma\u001b[0m\u001b[0;34m,\u001b[0m \u001b[0morder\u001b[0m\u001b[0;34m=\u001b[0m\u001b[0;34m'K'\u001b[0m\u001b[0;34m,\u001b[0m \u001b[0msubok\u001b[0m\u001b[0;34m=\u001b[0m\u001b[0;32mFalse\u001b[0m\u001b[0;34m)\u001b[0m\u001b[0;34m\u001b[0m\u001b[0;34m\u001b[0m\u001b[0m\n",
      "\u001b[0;31mDocstring:\u001b[0m\n",
      "Return an array copy of the given object.\n",
      "\n",
      "Parameters\n",
      "----------\n",
      "a : array_like\n",
      "    Input data.\n",
      "order : {'C', 'F', 'A', 'K'}, optional\n",
      "    Controls the memory layout of the copy. 'C' means C-order,\n",
      "    'F' means F-order, 'A' means 'F' if `a` is Fortran contiguous,\n",
      "    'C' otherwise. 'K' means match the layout of `a` as closely\n",
      "    as possible. (Note that this function and :meth:`ndarray.copy` are very\n",
      "    similar, but have different default values for their order=\n",
      "    arguments.)\n",
      "subok : bool, optional\n",
      "    If True, then sub-classes will be passed-through, otherwise the\n",
      "    returned array will be forced to be a base-class array (defaults to False).\n",
      "\n",
      "    .. versionadded:: 1.19.0\n",
      "\n",
      "Returns\n",
      "-------\n",
      "arr : ndarray\n",
      "    Array interpretation of `a`.\n",
      "\n",
      "See Also\n",
      "--------\n",
      "ndarray.copy : Preferred method for creating an array copy\n",
      "\n",
      "Notes\n",
      "-----\n",
      "This is equivalent to:\n",
      "\n",
      ">>> np.array(a, copy=True)  #doctest: +SKIP\n",
      "\n",
      "Examples\n",
      "--------\n",
      "Create an array x, with a reference y and a copy z:\n",
      "\n",
      ">>> x = np.array([1, 2, 3])\n",
      ">>> y = x\n",
      ">>> z = np.copy(x)\n",
      "\n",
      "Note that, when we modify x, y changes, but not z:\n",
      "\n",
      ">>> x[0] = 10\n",
      ">>> x[0] == y[0]\n",
      "True\n",
      ">>> x[0] == z[0]\n",
      "False\n",
      "\n",
      "Note that, np.copy clears previously set WRITEABLE=False flag.\n",
      "\n",
      ">>> a = np.array([1, 2, 3])\n",
      ">>> a.flags[\"WRITEABLE\"] = False\n",
      ">>> b = np.copy(a)\n",
      ">>> b.flags[\"WRITEABLE\"]\n",
      "True\n",
      ">>> b[0] = 3\n",
      ">>> b\n",
      "array([3, 2, 3])\n",
      "\n",
      "Note that np.copy is a shallow copy and will not copy object\n",
      "elements within arrays. This is mainly important for arrays\n",
      "containing Python objects. The new array will contain the\n",
      "same object which may lead to surprises if that object can\n",
      "be modified (is mutable):\n",
      "\n",
      ">>> a = np.array([1, 'm', [2, 3, 4]], dtype=object)\n",
      ">>> b = np.copy(a)\n",
      ">>> b[2][0] = 10\n",
      ">>> a\n",
      "array([1, 'm', list([10, 3, 4])], dtype=object)\n",
      "\n",
      "To ensure all elements within an ``object`` array are copied,\n",
      "use `copy.deepcopy`:\n",
      "\n",
      ">>> import copy\n",
      ">>> a = np.array([1, 'm', [2, 3, 4]], dtype=object)\n",
      ">>> c = copy.deepcopy(a)\n",
      ">>> c[2][0] = 10\n",
      ">>> c\n",
      "array([1, 'm', list([10, 3, 4])], dtype=object)\n",
      ">>> a\n",
      "array([1, 'm', list([2, 3, 4])], dtype=object)\n",
      "\u001b[0;31mFile:\u001b[0m      ~/anaconda3/envs/sci_comp/lib/python3.10/site-packages/numpy/lib/function_base.py\n",
      "\u001b[0;31mType:\u001b[0m      function"
     ]
    }
   ],
   "source": [
    "np.copy?"
   ]
  },
  {
   "cell_type": "markdown",
   "metadata": {
    "slideshow": {
     "slide_type": "subslide"
    }
   },
   "source": [
    "### More exotic ways of indexing\n",
    "List (or array) of indices to index another array:"
   ]
  },
  {
   "cell_type": "code",
   "execution_count": 20,
   "metadata": {
    "slideshow": {
     "slide_type": "-"
    }
   },
   "outputs": [
    {
     "data": {
      "text/plain": [
       "array([ 2,  4,  6,  8, 10, 12, 14, 16])"
      ]
     },
     "execution_count": 20,
     "metadata": {},
     "output_type": "execute_result"
    }
   ],
   "source": [
    "e"
   ]
  },
  {
   "cell_type": "code",
   "execution_count": 21,
   "metadata": {
    "slideshow": {
     "slide_type": "-"
    }
   },
   "outputs": [
    {
     "data": {
      "text/plain": [
       "array([ 2, 10, 12, 16])"
      ]
     },
     "execution_count": 21,
     "metadata": {},
     "output_type": "execute_result"
    }
   ],
   "source": [
    "idx = [0 , 4 , 5 , -1]\n",
    "e[idx]"
   ]
  },
  {
   "cell_type": "markdown",
   "metadata": {
    "slideshow": {
     "slide_type": "fragment"
    }
   },
   "source": [
    "Boolean indexing:"
   ]
  },
  {
   "cell_type": "code",
   "execution_count": 22,
   "metadata": {
    "slideshow": {
     "slide_type": "-"
    }
   },
   "outputs": [
    {
     "data": {
      "text/plain": [
       "array([False, False, False,  True,  True,  True,  True,  True])"
      ]
     },
     "execution_count": 22,
     "metadata": {},
     "output_type": "execute_result"
    }
   ],
   "source": [
    "e > 6"
   ]
  },
  {
   "cell_type": "code",
   "execution_count": 23,
   "metadata": {
    "slideshow": {
     "slide_type": "-"
    }
   },
   "outputs": [
    {
     "data": {
      "text/plain": [
       "array([ 8, 10, 12, 14, 16])"
      ]
     },
     "execution_count": 23,
     "metadata": {},
     "output_type": "execute_result"
    }
   ],
   "source": [
    "e[e > 6]"
   ]
  },
  {
   "cell_type": "code",
   "execution_count": 24,
   "metadata": {
    "slideshow": {
     "slide_type": "-"
    }
   },
   "outputs": [
    {
     "data": {
      "text/plain": [
       "array([ 8, 10, 12, 14, 16])"
      ]
     },
     "execution_count": 24,
     "metadata": {},
     "output_type": "execute_result"
    }
   ],
   "source": [
    "idxvals = np.where(e > 6)\n",
    "e[idxvals]"
   ]
  },
  {
   "cell_type": "markdown",
   "metadata": {
    "slideshow": {
     "slide_type": "subslide"
    }
   },
   "source": [
    "## Computing functions of array values\n",
    "\n",
    "Now that we know about `NumPy` arrays, we can replace the example from previously and create arrays instead of lists:"
   ]
  },
  {
   "cell_type": "code",
   "execution_count": 25,
   "metadata": {
    "slideshow": {
     "slide_type": "-"
    }
   },
   "outputs": [
    {
     "data": {
      "text/plain": [
       "[0.0, 0.25, 0.5, 0.75, 1.0]"
      ]
     },
     "execution_count": 25,
     "metadata": {},
     "output_type": "execute_result"
    }
   ],
   "source": [
    "xlist"
   ]
  },
  {
   "cell_type": "code",
   "execution_count": 26,
   "metadata": {
    "slideshow": {
     "slide_type": "-"
    }
   },
   "outputs": [
    {
     "data": {
      "text/plain": [
       "[0.0, 0.015625, 0.125, 0.421875, 1.0]"
      ]
     },
     "execution_count": 26,
     "metadata": {},
     "output_type": "execute_result"
    }
   ],
   "source": [
    "ylist"
   ]
  },
  {
   "cell_type": "code",
   "execution_count": 27,
   "metadata": {
    "slideshow": {
     "slide_type": "-"
    }
   },
   "outputs": [
    {
     "data": {
      "text/plain": [
       "array([0.  , 0.25, 0.5 , 0.75, 1.  ])"
      ]
     },
     "execution_count": 27,
     "metadata": {},
     "output_type": "execute_result"
    }
   ],
   "source": [
    "n = 5\n",
    "x2 = np.linspace(0,1,n)\n",
    "x2"
   ]
  },
  {
   "cell_type": "markdown",
   "metadata": {
    "slideshow": {
     "slide_type": "fragment"
    }
   },
   "source": [
    "- `ylist` was created in a loop over the entries in `xlist`\n",
    "- Looping over individual entries is not necessary using arrays - **vectorisation**"
   ]
  },
  {
   "cell_type": "markdown",
   "metadata": {
    "slideshow": {
     "slide_type": "slide"
    }
   },
   "source": [
    "# Vectorising Operations"
   ]
  },
  {
   "cell_type": "markdown",
   "metadata": {
    "slideshow": {
     "slide_type": "subslide"
    }
   },
   "source": [
    "## Computing functions of array values – vectorisation\n",
    "\n",
    "Looping through elements of the array to create it is slow.\n",
    "\n",
    "* An advantage of arrays is that we can apply functions to them directly:"
   ]
  },
  {
   "cell_type": "code",
   "execution_count": 28,
   "metadata": {
    "slideshow": {
     "slide_type": "-"
    }
   },
   "outputs": [
    {
     "data": {
      "text/plain": [
       "array([0.      , 0.015625, 0.125   , 0.421875, 1.      ])"
      ]
     },
     "execution_count": 28,
     "metadata": {},
     "output_type": "execute_result"
    }
   ],
   "source": [
    "y2 = f(x2)\n",
    "y2"
   ]
  },
  {
   "cell_type": "markdown",
   "metadata": {
    "slideshow": {
     "slide_type": "fragment"
    }
   },
   "source": [
    "* Builds on vector arithmetic.\n",
    "* How? `NumPy` provides implementations of mathematical functions that support arrays as input."
   ]
  },
  {
   "cell_type": "markdown",
   "metadata": {
    "slideshow": {
     "slide_type": "subslide"
    }
   },
   "source": [
    "## Exercise - NumPy array vectorisation\n",
    "\n",
    "This code computes a function over a sequence of $x$-values in a **scalar** way by looping through the elements of an array (inefficient):"
   ]
  },
  {
   "cell_type": "code",
   "execution_count": 51,
   "metadata": {
    "slideshow": {
     "slide_type": "-"
    }
   },
   "outputs": [
    {
     "data": {
      "text/plain": [
       "[2.0,\n",
       " 2.2876893068055875,\n",
       " 2.577669130950128,\n",
       " 2.846677755561096,\n",
       " 3.167255914619631]"
      ]
     },
     "execution_count": 51,
     "metadata": {},
     "output_type": "execute_result"
    }
   ],
   "source": [
    "from math import sin, cos, exp\n",
    "\n",
    "n = 5\n",
    "step = 1/(n-1)\n",
    "r = []\n",
    "x = 0\n",
    "\n",
    "# Loop over elements\n",
    "for i in range(n):\n",
    "    value = sin(x) * cos(x) * exp(-x**2) + 2 + x**2\n",
    "    r.append(value)\n",
    "    x += step\n",
    "r"
   ]
  },
  {
   "cell_type": "markdown",
   "metadata": {
    "slideshow": {
     "slide_type": "-"
    }
   },
   "source": [
    "* Vectorise the above code using NumPy, avoid the loop\n",
    "Hints:\n",
    "* Turn the $x$-values into an array of values\n",
    "* Apply the operations directly on the $x$ *array*"
   ]
  },
  {
   "cell_type": "markdown",
   "metadata": {
    "slideshow": {
     "slide_type": "subslide"
    }
   },
   "source": [
    "In the exercise operating on the entire array in one iteration:\n",
    "\n",
    "* The code example fills in the entire array.\n",
    "* Referred to as **vectorised** code – the various operations operate on the entire array (vector).\n",
    "* The program still loops through the values of the array, but this happens “under the hood” inside efficient compiled C or Fortran code inside `NumPy` (fast)."
   ]
  },
  {
   "cell_type": "markdown",
   "metadata": {
    "slideshow": {
     "slide_type": "subslide"
    }
   },
   "source": [
    "## When does code work in vectorised form?\n",
    "\n",
    "Can we just take any existing (scalar) Python code and use it for array-valued input as well?\n",
    "\n",
    "* To a large extent – yes.\n",
    "* Import the necessary mathematical functions from the `numpy` module instead of, e.g., the math module.\n",
    "* `numpy`’s implementations of the functions support array arguments.\n",
    "* If the function in question contains conditional statements (`if`), these parts must be re-written to support arrays."
   ]
  },
  {
   "cell_type": "markdown",
   "metadata": {
    "slideshow": {
     "slide_type": "subslide"
    }
   },
   "source": [
    "Scalar function:"
   ]
  },
  {
   "cell_type": "code",
   "execution_count": null,
   "metadata": {
    "tags": []
   },
   "outputs": [],
   "source": [
    "def sign(x):\n",
    "    if x < 0:\n",
    "        return -1\n",
    "    else:\n",
    "        return 1"
   ]
  },
  {
   "cell_type": "code",
   "execution_count": null,
   "metadata": {
    "slideshow": {
     "slide_type": "fragment"
    }
   },
   "outputs": [],
   "source": [
    "sign(-5)"
   ]
  },
  {
   "cell_type": "markdown",
   "metadata": {
    "slideshow": {
     "slide_type": "skip"
    },
    "tags": []
   },
   "source": [
    "Vector trouble:"
   ]
  },
  {
   "cell_type": "code",
   "execution_count": null,
   "metadata": {
    "slideshow": {
     "slide_type": "-"
    }
   },
   "outputs": [],
   "source": [
    "sign(a)"
   ]
  },
  {
   "cell_type": "markdown",
   "metadata": {
    "slideshow": {
     "slide_type": "subslide"
    }
   },
   "source": [
    "Solution for conditional scalar functions:\n",
    "- Either re-write function cleverly - (boolean) arithmetic instead of conditionals:"
   ]
  },
  {
   "cell_type": "code",
   "execution_count": null,
   "metadata": {
    "slideshow": {
     "slide_type": "-"
    }
   },
   "outputs": [],
   "source": [
    "def sign_vec(x):\n",
    "    return (x >= 0) * 2 - 1"
   ]
  },
  {
   "cell_type": "code",
   "execution_count": null,
   "metadata": {
    "slideshow": {
     "slide_type": "fragment"
    }
   },
   "outputs": [],
   "source": [
    "sign_vec(a)"
   ]
  },
  {
   "cell_type": "markdown",
   "metadata": {
    "slideshow": {
     "slide_type": "fragment"
    },
    "tags": []
   },
   "source": [
    "- The easy way out:"
   ]
  },
  {
   "cell_type": "code",
   "execution_count": null,
   "metadata": {
    "slideshow": {
     "slide_type": "-"
    }
   },
   "outputs": [],
   "source": [
    "sign_vec2 = np.vectorize(sign)"
   ]
  },
  {
   "cell_type": "code",
   "execution_count": null,
   "metadata": {
    "slideshow": {
     "slide_type": "fragment"
    }
   },
   "outputs": [],
   "source": [
    "sign_vec2(a)"
   ]
  },
  {
   "cell_type": "markdown",
   "metadata": {
    "slideshow": {
     "slide_type": "slide"
    }
   },
   "source": [
    "# More About Arrays"
   ]
  },
  {
   "cell_type": "markdown",
   "metadata": {
    "slideshow": {
     "slide_type": "subslide"
    }
   },
   "source": [
    "## More details\n",
    "\n",
    "* Arrays are not just one-dimensional (vectors). They can be 2- or higher-dimensional as well (matrices, or tensors more generally).\n",
    "* They can be indexed like lists:"
   ]
  },
  {
   "cell_type": "code",
   "execution_count": 87,
   "metadata": {
    "slideshow": {
     "slide_type": "-"
    }
   },
   "outputs": [
    {
     "data": {
      "text/plain": [
       "array([[[[  0,   1,   2,   3,   4],\n",
       "         [  5,   6,   7,   8,   9],\n",
       "         [ 10,  11,  12,  13,  14],\n",
       "         [ 15,  16,  17,  18,  19]],\n",
       "\n",
       "        [[ 20,  21,  22,  23,  24],\n",
       "         [ 25,  26,  27,  28,  29],\n",
       "         [ 30,  31,  32,  33,  34],\n",
       "         [ 35,  36,  37,  38,  39]],\n",
       "\n",
       "        [[ 40,  41,  42,  43,  44],\n",
       "         [ 45,  46,  47,  48,  49],\n",
       "         [ 50,  51,  52,  53,  54],\n",
       "         [ 55,  56,  57,  58,  59]]],\n",
       "\n",
       "\n",
       "       [[[ 60,  61,  62,  63,  64],\n",
       "         [ 65,  66,  67,  68,  69],\n",
       "         [ 70,  71,  72,  73,  74],\n",
       "         [ 75,  76,  77,  78,  79]],\n",
       "\n",
       "        [[ 80,  81,  82,  83,  84],\n",
       "         [ 85,  86,  87,  88,  89],\n",
       "         [ 90,  91,  92,  93,  94],\n",
       "         [ 95,  96,  97,  98,  99]],\n",
       "\n",
       "        [[100, 101, 102, 103, 104],\n",
       "         [105, 106, 107, 108, 109],\n",
       "         [110, 111, 112, 113, 114],\n",
       "         [115, 116, 117, 118, 119]]]])"
      ]
     },
     "execution_count": 87,
     "metadata": {},
     "output_type": "execute_result"
    }
   ],
   "source": [
    "table = np.arange(2*3*4*5).reshape((2,3,4,5))\n",
    "table"
   ]
  },
  {
   "cell_type": "code",
   "execution_count": 88,
   "metadata": {
    "slideshow": {
     "slide_type": "-"
    }
   },
   "outputs": [
    {
     "data": {
      "text/plain": [
       "66"
      ]
     },
     "execution_count": 88,
     "metadata": {},
     "output_type": "execute_result"
    }
   ],
   "source": [
    "table[1,0,1,1]"
   ]
  },
  {
   "cell_type": "markdown",
   "metadata": {
    "slideshow": {
     "slide_type": "fragment"
    },
    "tags": []
   },
   "source": [
    "* They are usually indexed using this more convenient notation:"
   ]
  },
  {
   "cell_type": "code",
   "execution_count": 54,
   "metadata": {
    "slideshow": {
     "slide_type": "-"
    }
   },
   "outputs": [
    {
     "data": {
      "text/plain": [
       "3"
      ]
     },
     "execution_count": 54,
     "metadata": {},
     "output_type": "execute_result"
    }
   ],
   "source": [
    "table[1,1]"
   ]
  },
  {
   "cell_type": "code",
   "execution_count": 55,
   "metadata": {},
   "outputs": [
    {
     "data": {
      "text/plain": [
       "(2, 2)"
      ]
     },
     "execution_count": 55,
     "metadata": {},
     "output_type": "execute_result"
    }
   ],
   "source": [
    "table.shape"
   ]
  },
  {
   "cell_type": "markdown",
   "metadata": {
    "slideshow": {
     "slide_type": "fragment"
    },
    "tags": []
   },
   "source": [
    "* We can inspect the “size” of an array, i.e. the number of elements along each dimension of the array, using `table.shape`"
   ]
  },
  {
   "cell_type": "markdown",
   "metadata": {
    "slideshow": {
     "slide_type": "subslide"
    },
    "tags": []
   },
   "source": [
    "* We can think of a one-dimensional array as a vector and a two-dimensional array as a matrix.\n",
    "* Multiplication `A * B` means entry-wise multiplication.\n",
    "* If we want matrix multiplication between arrays representing vectors and/or matrices, we need to use `np.dot()` or `@` - **in Python >= 3.5**."
   ]
  },
  {
   "cell_type": "code",
   "execution_count": 81,
   "metadata": {
    "tags": []
   },
   "outputs": [
    {
     "data": {
      "text/plain": [
       "array([[2., 2.],\n",
       "       [5., 5.]])"
      ]
     },
     "execution_count": 81,
     "metadata": {},
     "output_type": "execute_result"
    }
   ],
   "source": [
    "A = 2 * np.ones((2,2))\n",
    "A[1,:] = 5\n",
    "A"
   ]
  },
  {
   "cell_type": "code",
   "execution_count": 82,
   "metadata": {
    "slideshow": {
     "slide_type": "fragment"
    }
   },
   "outputs": [
    {
     "data": {
      "text/plain": [
       "array([[3., 4.],\n",
       "       [3., 4.]])"
      ]
     },
     "execution_count": 82,
     "metadata": {},
     "output_type": "execute_result"
    }
   ],
   "source": [
    "B = 3 * np.ones((2,2))\n",
    "B[:,1] = 4\n",
    "B"
   ]
  },
  {
   "cell_type": "code",
   "execution_count": 83,
   "metadata": {
    "slideshow": {
     "slide_type": "fragment"
    }
   },
   "outputs": [
    {
     "data": {
      "text/plain": [
       "array([[ 6.,  8.],\n",
       "       [15., 20.]])"
      ]
     },
     "execution_count": 83,
     "metadata": {},
     "output_type": "execute_result"
    }
   ],
   "source": [
    "A * B"
   ]
  },
  {
   "cell_type": "code",
   "execution_count": 84,
   "metadata": {
    "slideshow": {
     "slide_type": "fragment"
    }
   },
   "outputs": [
    {
     "data": {
      "text/plain": [
       "array([[12., 16.],\n",
       "       [30., 40.]])"
      ]
     },
     "execution_count": 84,
     "metadata": {},
     "output_type": "execute_result"
    }
   ],
   "source": [
    "A @ B"
   ]
  },
  {
   "cell_type": "markdown",
   "metadata": {
    "slideshow": {
     "slide_type": "subslide"
    }
   },
   "source": [
    "### A bit more matrix fun (linear algebra)\n",
    "\n",
    "- Transpose:"
   ]
  },
  {
   "cell_type": "code",
   "execution_count": 90,
   "metadata": {},
   "outputs": [
    {
     "data": {
      "text/plain": [
       "(2, 3, 4, 5)"
      ]
     },
     "execution_count": 90,
     "metadata": {},
     "output_type": "execute_result"
    }
   ],
   "source": [
    "table.shape"
   ]
  },
  {
   "cell_type": "code",
   "execution_count": 91,
   "metadata": {
    "slideshow": {
     "slide_type": "-"
    }
   },
   "outputs": [
    {
     "data": {
      "text/plain": [
       "(5, 4, 3, 2)"
      ]
     },
     "execution_count": 91,
     "metadata": {},
     "output_type": "execute_result"
    }
   ],
   "source": [
    "table.T.shape"
   ]
  },
  {
   "cell_type": "markdown",
   "metadata": {
    "slideshow": {
     "slide_type": "-"
    }
   },
   "source": [
    "- Inverse:"
   ]
  },
  {
   "cell_type": "code",
   "execution_count": 93,
   "metadata": {
    "slideshow": {
     "slide_type": "-"
    }
   },
   "outputs": [
    {
     "data": {
      "text/plain": [
       "array([[ 9.00719925e+15, -3.60287970e+15],\n",
       "       [-9.00719925e+15,  3.60287970e+15]])"
      ]
     },
     "execution_count": 93,
     "metadata": {},
     "output_type": "execute_result"
    }
   ],
   "source": [
    "np.linalg.inv(A)"
   ]
  },
  {
   "cell_type": "code",
   "execution_count": 94,
   "metadata": {
    "slideshow": {
     "slide_type": "subslide"
    }
   },
   "outputs": [
    {
     "data": {
      "text/plain": [
       "array([[1, 2, 3],\n",
       "       [4, 5, 6],\n",
       "       [7, 8, 9]])"
      ]
     },
     "execution_count": 94,
     "metadata": {},
     "output_type": "execute_result"
    }
   ],
   "source": [
    "c = np.arange(1,10)\n",
    "C = c.reshape((3,3))\n",
    "C"
   ]
  },
  {
   "cell_type": "code",
   "execution_count": 99,
   "metadata": {
    "slideshow": {
     "slide_type": "fragment"
    }
   },
   "outputs": [
    {
     "data": {
      "text/plain": [
       "array([[1, 4, 7],\n",
       "       [2, 5, 8],\n",
       "       [3, 6, 9]])"
      ]
     },
     "execution_count": 99,
     "metadata": {},
     "output_type": "execute_result"
    }
   ],
   "source": [
    "D = c.reshape((3,3),order='F')\n",
    "D"
   ]
  },
  {
   "cell_type": "code",
   "execution_count": 100,
   "metadata": {
    "slideshow": {
     "slide_type": "subslide"
    }
   },
   "outputs": [
    {
     "data": {
      "text/plain": [
       "  C_CONTIGUOUS : False\n",
       "  F_CONTIGUOUS : True\n",
       "  OWNDATA : False\n",
       "  WRITEABLE : True\n",
       "  ALIGNED : True\n",
       "  WRITEBACKIFCOPY : False"
      ]
     },
     "execution_count": 100,
     "metadata": {},
     "output_type": "execute_result"
    }
   ],
   "source": [
    "D.flags"
   ]
  },
  {
   "cell_type": "code",
   "execution_count": 128,
   "metadata": {},
   "outputs": [
    {
     "data": {
      "text/plain": [
       "  C_CONTIGUOUS : False\n",
       "  F_CONTIGUOUS : False\n",
       "  OWNDATA : False\n",
       "  WRITEABLE : True\n",
       "  ALIGNED : True\n",
       "  WRITEBACKIFCOPY : False"
      ]
     },
     "execution_count": 128,
     "metadata": {},
     "output_type": "execute_result"
    }
   ],
   "source": [
    "# slice of C means data in not contigous\n",
    "E = C[0:2:, 0:2]\n",
    "E.flags"
   ]
  },
  {
   "cell_type": "code",
   "execution_count": 127,
   "metadata": {},
   "outputs": [
    {
     "data": {
      "text/plain": [
       "  C_CONTIGUOUS : True\n",
       "  F_CONTIGUOUS : False\n",
       "  OWNDATA : True\n",
       "  WRITEABLE : True\n",
       "  ALIGNED : True\n",
       "  WRITEBACKIFCOPY : False"
      ]
     },
     "execution_count": 127,
     "metadata": {},
     "output_type": "execute_result"
    }
   ],
   "source": [
    "# To work with a slice in contigous manner, make copy of slice\n",
    "F = np.copy(E)\n",
    "F.flags"
   ]
  },
  {
   "cell_type": "markdown",
   "metadata": {
    "slideshow": {
     "slide_type": "fragment"
    }
   },
   "source": [
    "- The layout of data in memory can be important in terms of computational performance, i.e. how fast computations execute due to the time it takes to fetch data from memory.\n",
    "- Take this into consideration if optimising code for speed."
   ]
  },
  {
   "cell_type": "code",
   "execution_count": 101,
   "metadata": {
    "slideshow": {
     "slide_type": "fragment"
    }
   },
   "outputs": [
    {
     "data": {
      "text/plain": [
       "array([[1, 2, 3],\n",
       "       [4, 5, 6],\n",
       "       [7, 8, 9]])"
      ]
     },
     "execution_count": 101,
     "metadata": {},
     "output_type": "execute_result"
    }
   ],
   "source": [
    "c.reshape((3,3),order='C')"
   ]
  },
  {
   "cell_type": "markdown",
   "metadata": {
    "slideshow": {
     "slide_type": "subslide"
    }
   },
   "source": [
    "## Exercise - data orientation\n",
    "\n",
    "- Create two (1000 x 1000) arrays A and B (filled with for example `arange`)\n",
    "- Create A with data filled in row-wise\n",
    "- Create B with data filled in column-wise\n",
    "- Compute the matrix product $A\\cdot B$ and time how long it takes (`%timeit` in the IPython interpreter)\n",
    "- Compute the matrix product $B\\cdot A$ and time how long it takes (`%timeit` in the IPython interpreter)\n",
    "- Compare the difference. What do you observe? What is the reason?"
   ]
  },
  {
   "cell_type": "code",
   "execution_count": 137,
   "metadata": {},
   "outputs": [],
   "source": [
    "\n",
    "A = np.arange(1000*1000).reshape(1000,1000, order = \"C\")\n",
    "B = np.arange(1000*1000).reshape(1000,1000, order = \"F\")"
   ]
  },
  {
   "cell_type": "code",
   "execution_count": 141,
   "metadata": {},
   "outputs": [
    {
     "name": "stdout",
     "output_type": "stream",
     "text": [
      "1.07 s ± 3.84 ms per loop (mean ± std. dev. of 7 runs, 1 loop each)\n"
     ]
    }
   ],
   "source": [
    "%%timeit\n",
    "A @ B"
   ]
  },
  {
   "cell_type": "code",
   "execution_count": 142,
   "metadata": {},
   "outputs": [
    {
     "name": "stdout",
     "output_type": "stream",
     "text": [
      "2.95 s ± 30.2 ms per loop (mean ± std. dev. of 7 runs, 1 loop each)\n"
     ]
    }
   ],
   "source": [
    "%%timeit\n",
    "B @ A"
   ]
  },
  {
   "cell_type": "markdown",
   "metadata": {
    "slideshow": {
     "slide_type": "subslide"
    }
   },
   "source": [
    "### Example of checking near-equality\n",
    "Related to floating-point details later today"
   ]
  },
  {
   "cell_type": "code",
   "execution_count": 143,
   "metadata": {
    "slideshow": {
     "slide_type": "-"
    }
   },
   "outputs": [],
   "source": [
    "import numpy as np\n",
    "\n",
    "N, M, K, L = 60, 50, 800, 80"
   ]
  },
  {
   "cell_type": "code",
   "execution_count": 144,
   "metadata": {
    "slideshow": {
     "slide_type": "-"
    }
   },
   "outputs": [],
   "source": [
    "A = np.random.random((M,K))\n",
    "B = np.random.random((K,L))\n",
    "C = np.random.random((L,N))"
   ]
  },
  {
   "cell_type": "code",
   "execution_count": 145,
   "metadata": {
    "slideshow": {
     "slide_type": "-"
    }
   },
   "outputs": [],
   "source": [
    "R1 = (A.dot(B)).dot(C)"
   ]
  },
  {
   "cell_type": "code",
   "execution_count": 146,
   "metadata": {
    "slideshow": {
     "slide_type": "-"
    }
   },
   "outputs": [],
   "source": [
    "R2 = A.dot(B.dot(C))"
   ]
  },
  {
   "cell_type": "code",
   "execution_count": 147,
   "metadata": {
    "slideshow": {
     "slide_type": "-"
    }
   },
   "outputs": [
    {
     "data": {
      "text/plain": [
       "array([[False, False, False, ..., False,  True, False],\n",
       "       [ True,  True, False, ..., False,  True,  True],\n",
       "       [False, False,  True, ...,  True, False, False],\n",
       "       ...,\n",
       "       [False, False,  True, ..., False, False, False],\n",
       "       [ True, False, False, ..., False, False, False],\n",
       "       [ True, False, False, ...,  True,  True, False]])"
      ]
     },
     "execution_count": 147,
     "metadata": {},
     "output_type": "execute_result"
    }
   ],
   "source": [
    "R1 == R2"
   ]
  },
  {
   "cell_type": "code",
   "execution_count": 148,
   "metadata": {
    "slideshow": {
     "slide_type": "-"
    }
   },
   "outputs": [
    {
     "data": {
      "text/plain": [
       "True"
      ]
     },
     "execution_count": 148,
     "metadata": {},
     "output_type": "execute_result"
    }
   ],
   "source": [
    "np.allclose(R1,R2)"
   ]
  },
  {
   "cell_type": "markdown",
   "metadata": {
    "slideshow": {
     "slide_type": "subslide"
    }
   },
   "source": [
    "### Complex numbers\n",
    "\n",
    "Sometimes we need to specify complex numbers in Python:"
   ]
  },
  {
   "cell_type": "code",
   "execution_count": 149,
   "metadata": {
    "slideshow": {
     "slide_type": "-"
    }
   },
   "outputs": [
    {
     "data": {
      "text/plain": [
       "(1+5j)"
      ]
     },
     "execution_count": 149,
     "metadata": {},
     "output_type": "execute_result"
    }
   ],
   "source": [
    "number = 1 + 5j\n",
    "number"
   ]
  },
  {
   "cell_type": "code",
   "execution_count": 150,
   "metadata": {
    "slideshow": {
     "slide_type": "-"
    }
   },
   "outputs": [
    {
     "data": {
      "text/plain": [
       "(1+5j)"
      ]
     },
     "execution_count": 150,
     "metadata": {},
     "output_type": "execute_result"
    }
   ],
   "source": [
    "number = complex(1, 5)\n",
    "number"
   ]
  },
  {
   "cell_type": "code",
   "execution_count": 151,
   "metadata": {
    "slideshow": {
     "slide_type": "-"
    }
   },
   "outputs": [
    {
     "data": {
      "text/plain": [
       "array([1.+0.j, 1.+0.j, 1.+0.j])"
      ]
     },
     "execution_count": 151,
     "metadata": {},
     "output_type": "execute_result"
    }
   ],
   "source": [
    "numbers = np.ones(3, dtype=complex)\n",
    "numbers"
   ]
  },
  {
   "cell_type": "markdown",
   "metadata": {
    "slideshow": {
     "slide_type": "slide"
    }
   },
   "source": [
    "## Random numbers\n",
    "\n",
    "We often need random numbers for Monte Carlo simulation, to\n",
    "generate test data, randomise experimental set-ups etc.\n",
    "\n",
    "* NumPy also has a module random providing functions for generating random numbers. Some of the basic generators:\n",
    "  * Integers\n",
    "  * Uniform random numbers\n",
    "  * Gaussian (normal) random numbers\n",
    "* Many more distributions in `numpy.random` ([documentation](https://numpy.org/doc/1.20/reference/random/generator.html#distributions))."
   ]
  },
  {
   "cell_type": "markdown",
   "metadata": {
    "slideshow": {
     "slide_type": "subslide"
    }
   },
   "source": [
    "### Generating random numbers"
   ]
  },
  {
   "cell_type": "markdown",
   "metadata": {
    "slideshow": {
     "slide_type": "-"
    }
   },
   "source": [
    "Set up generator and draw numbers"
   ]
  },
  {
   "cell_type": "code",
   "execution_count": 152,
   "metadata": {
    "slideshow": {
     "slide_type": "-"
    }
   },
   "outputs": [],
   "source": [
    "import numpy as np\n",
    "N = 500\n",
    "a = 3\n",
    "b = 7\n",
    "\n",
    "rng = np.random.default_rng()\n",
    "\n",
    "y2 = rng.integers(a, b, N)"
   ]
  },
  {
   "cell_type": "markdown",
   "metadata": {
    "slideshow": {
     "slide_type": "fragment"
    }
   },
   "source": [
    "Plot the numbers to check"
   ]
  },
  {
   "cell_type": "code",
   "execution_count": 153,
   "metadata": {
    "slideshow": {
     "slide_type": "-"
    }
   },
   "outputs": [
    {
     "data": {
      "image/png": "[encoded data removed]",
      "text/plain": [
       "<Figure size 640x480 with 1 Axes>"
      ]
     },
     "metadata": {},
     "output_type": "display_data"
    }
   ],
   "source": [
    "import matplotlib.pyplot as plt\n",
    "%matplotlib inline\n",
    "\n",
    "plt.plot(y2, 'r+')\n",
    "_ = plt.axis([0,N-1,2.8,7.2])"
   ]
  },
  {
   "cell_type": "markdown",
   "metadata": {
    "slideshow": {
     "slide_type": "subslide"
    }
   },
   "source": [
    "### Other kinds of random numbers"
   ]
  },
  {
   "cell_type": "markdown",
   "metadata": {
    "slideshow": {
     "slide_type": "-"
    }
   },
   "source": [
    "Random numbers from other distributions are drawn similarly, using other functions from the generator:"
   ]
  },
  {
   "cell_type": "code",
   "execution_count": null,
   "metadata": {
    "slideshow": {
     "slide_type": "fragment"
    }
   },
   "outputs": [],
   "source": [
    "rng.random(10)  # Uniform between 0 and 1 (exclusive)"
   ]
  },
  {
   "cell_type": "code",
   "execution_count": null,
   "metadata": {
    "slideshow": {
     "slide_type": "fragment"
    }
   },
   "outputs": [],
   "source": [
    "rng.normal(0, 1, 10)  # Normal / Gaussian"
   ]
  },
  {
   "cell_type": "markdown",
   "metadata": {
    "slideshow": {
     "slide_type": "slide"
    },
    "tags": []
   },
   "source": [
    "# Storing Data to Files\n",
    "\n",
    "NumPy `savetxt`/`loadtxt`\n",
    "\n",
    "* NumPy provides a simple solution for storing/loading data.\n",
    "* Storage as text files $\\rightarrow$ human-readable, easier overview of contents, debugging etc."
   ]
  },
  {
   "cell_type": "markdown",
   "metadata": {
    "slideshow": {
     "slide_type": "subslide"
    }
   },
   "source": [
    "### Saving data\n",
    "\n",
    "* `numpy.savetxt` can be used to save data.\n",
    "* Use as:\n",
    "```python\n",
    "numpy.savetxt(fname,\n",
    "                X,\n",
    "                fmt='%.18e',\n",
    "                delimiter=' ',\n",
    "                newline='\\n',\n",
    "                header='',\n",
    "                footer='',\n",
    "                comments='# ')\n",
    "```\n",
    "* Can automatically save in gzipped format: add “.gz” file name postfix."
   ]
  },
  {
   "cell_type": "markdown",
   "metadata": {
    "slideshow": {
     "slide_type": "subslide"
    }
   },
   "source": [
    "Let us try it..."
   ]
  },
  {
   "cell_type": "code",
   "execution_count": 154,
   "metadata": {
    "slideshow": {
     "slide_type": "fragment"
    }
   },
   "outputs": [
    {
     "data": {
      "text/plain": [
       "array([[-1.3428147 , -3.3552393 ,  0.17530548],\n",
       "       [ 1.77155445,  0.59979419, -1.31339501],\n",
       "       [ 0.06089519,  1.16125226, -0.13112536]])"
      ]
     },
     "execution_count": 154,
     "metadata": {},
     "output_type": "execute_result"
    }
   ],
   "source": [
    "import numpy as np\n",
    "\n",
    "data = np.random.normal(size=(3,3))\n",
    "data"
   ]
  },
  {
   "cell_type": "markdown",
   "metadata": {
    "slideshow": {
     "slide_type": "subslide"
    }
   },
   "source": [
    "Simply saving, standard options (basically stores as CSV):"
   ]
  },
  {
   "cell_type": "code",
   "execution_count": 155,
   "metadata": {
    "slideshow": {
     "slide_type": "-"
    }
   },
   "outputs": [],
   "source": [
    "np.savetxt('data1.txt',data)"
   ]
  },
  {
   "cell_type": "markdown",
   "metadata": {
    "slideshow": {
     "slide_type": "fragment"
    }
   },
   "source": [
    "- You can specify more arguments to `savetxt` to customise the format of data stored to file - for example to use comma as delimiter like proper CSV files."
   ]
  },
  {
   "cell_type": "markdown",
   "metadata": {
    "slideshow": {
     "slide_type": "fragment"
    }
   },
   "source": [
    "Saving in gzipped format:"
   ]
  },
  {
   "cell_type": "code",
   "execution_count": 156,
   "metadata": {
    "slideshow": {
     "slide_type": "-"
    }
   },
   "outputs": [],
   "source": [
    "np.savetxt('data1.txt.gz',data)"
   ]
  },
  {
   "cell_type": "markdown",
   "metadata": {
    "slideshow": {
     "slide_type": "subslide"
    }
   },
   "source": [
    "### Loading data\n",
    "\n",
    "* `numpy.loadtxt` can be used to load data saved with `numpy.savetxt`.\n",
    "* Use as:\n",
    "\n",
    "```python\n",
    "numpy.loadtxt(fname,\n",
    "                dtype=<type 'float'>,\n",
    "                comments='#',\n",
    "                delimiter=None,\n",
    "                converters=None,\n",
    "                skiprows=0,\n",
    "                usecols=None,\n",
    "                unpack=False,\n",
    "                ndmin=0)\n",
    "```\n",
    "* Can automatically load in gzipped format."
   ]
  },
  {
   "cell_type": "markdown",
   "metadata": {
    "slideshow": {
     "slide_type": "subslide"
    }
   },
   "source": [
    "Let us try it..."
   ]
  },
  {
   "cell_type": "code",
   "execution_count": 157,
   "metadata": {
    "slideshow": {
     "slide_type": "fragment"
    }
   },
   "outputs": [
    {
     "data": {
      "text/plain": [
       "array([[-1.3428147 , -3.3552393 ,  0.17530548],\n",
       "       [ 1.77155445,  0.59979419, -1.31339501],\n",
       "       [ 0.06089519,  1.16125226, -0.13112536]])"
      ]
     },
     "execution_count": 157,
     "metadata": {},
     "output_type": "execute_result"
    }
   ],
   "source": [
    "import numpy as np\n",
    "\n",
    "data = np.loadtxt('data1.txt')\n",
    "data"
   ]
  },
  {
   "cell_type": "markdown",
   "metadata": {
    "slideshow": {
     "slide_type": "fragment"
    }
   },
   "source": [
    "Load data from gzipped file"
   ]
  },
  {
   "cell_type": "code",
   "execution_count": 158,
   "metadata": {
    "slideshow": {
     "slide_type": "-"
    }
   },
   "outputs": [
    {
     "data": {
      "text/plain": [
       "array([[-1.3428147 , -3.3552393 ,  0.17530548],\n",
       "       [ 1.77155445,  0.59979419, -1.31339501],\n",
       "       [ 0.06089519,  1.16125226, -0.13112536]])"
      ]
     },
     "execution_count": 158,
     "metadata": {},
     "output_type": "execute_result"
    }
   ],
   "source": [
    "data = np.loadtxt('data1.txt.gz')\n",
    "data"
   ]
  },
  {
   "cell_type": "markdown",
   "metadata": {
    "slideshow": {
     "slide_type": "subslide"
    }
   },
   "source": [
    "Picking certain columns"
   ]
  },
  {
   "cell_type": "code",
   "execution_count": 159,
   "metadata": {
    "slideshow": {
     "slide_type": "-"
    }
   },
   "outputs": [
    {
     "data": {
      "text/plain": [
       "array([[-1.3428147 ,  0.17530548],\n",
       "       [ 1.77155445, -1.31339501],\n",
       "       [ 0.06089519, -0.13112536]])"
      ]
     },
     "execution_count": 159,
     "metadata": {},
     "output_type": "execute_result"
    }
   ],
   "source": [
    "data = np.loadtxt('data1.txt',usecols=(0,2))\n",
    "data"
   ]
  },
  {
   "cell_type": "markdown",
   "metadata": {
    "slideshow": {
     "slide_type": "fragment"
    }
   },
   "source": [
    "\"Unpacking\" the array, i.e. storing individual columns of the data:"
   ]
  },
  {
   "cell_type": "code",
   "execution_count": 160,
   "metadata": {
    "slideshow": {
     "slide_type": "-"
    }
   },
   "outputs": [
    {
     "data": {
      "text/plain": [
       "(array([-1.3428147 ,  1.77155445,  0.06089519]),\n",
       " array([-3.3552393 ,  0.59979419,  1.16125226]),\n",
       " array([ 0.17530548, -1.31339501, -0.13112536]))"
      ]
     },
     "execution_count": 160,
     "metadata": {},
     "output_type": "execute_result"
    }
   ],
   "source": [
    "x, y, z = np.loadtxt('data1.txt',unpack=True)\n",
    "x, y, z"
   ]
  },
  {
   "cell_type": "markdown",
   "metadata": {
    "slideshow": {
     "slide_type": "subslide"
    }
   },
   "source": [
    "## More options\n",
    "\n",
    "Other Numpy storage facilities\n",
    "\n",
    "* `numpy.save` saves an array in binary format (`.npy` postfix).\n",
    "* `numpy.savez` saves multiple arrays in binary files (`.npy`) inside a single non-compressed gzipped archive (.npz postfix).\n",
    "* `numpy.savez_compressed` saves multiple arrays in binary files (`.npy`) inside a single compressed gzipped archive (`.npz` postfix).\n",
    "* `numpy.load` loads data in binary format (`.npy` or `.npz` from the above functions or pickled files).\n",
    "\n",
    "Look them up for details if you need them."
   ]
  },
  {
   "cell_type": "markdown",
   "metadata": {
    "slideshow": {
     "slide_type": "slide"
    }
   },
   "source": [
    "# Exercise\n",
    "\n",
    "- Create an example matrix (array) $X$ of random integers in $[0,9]$ of size $1000 \\times 10$\n",
    "- Store the matrix (array) $X$ to a text file called \"xdata.txt\"\n",
    "- Inspect the stored text file with a text editor to understand how the data has been stored\n",
    "- Load columns 2, 3, and 7 of the matrix in \"xdata.txt\". Store these in three different variables.\n",
    "- Now store the original matrix as a gzipped text file instead, called \"xdata.txt.gz\". Inspect the files to see if there is any difference in size.\n",
    "- Also store the original matrix $X$ as a binary file (.npy) \"xdata.npy\". Inspect the files to see if there is any difference in size."
   ]
  },
  {
   "cell_type": "code",
   "execution_count": 168,
   "metadata": {},
   "outputs": [
    {
     "name": "stderr",
     "output_type": "stream",
     "text": [
      "/tmp/ipykernel_1689/3667325968.py:1: DeprecationWarning: This function is deprecated. Please call randint(0, 10 + 1) instead\n",
      "  X = np.random.random_integers(0, 10, 1000*10).reshape(1000, 10)\n"
     ]
    }
   ],
   "source": [
    "X = np.random.random_integers(0, 10, 1000*10).reshape(1000, 10)\n",
    "np.savetxt(\"xdata.txt\", X)"
   ]
  },
  {
   "cell_type": "code",
   "execution_count": 171,
   "metadata": {},
   "outputs": [],
   "source": [
    "a, b, c = np.loadtxt(\"xdata.txt\", usecols=(2,3,7), unpack=True)"
   ]
  },
  {
   "cell_type": "code",
   "execution_count": 174,
   "metadata": {},
   "outputs": [
    {
     "data": {
      "text/plain": [
       "(1000,)"
      ]
     },
     "execution_count": 174,
     "metadata": {},
     "output_type": "execute_result"
    }
   ],
   "source": [
    "a.shape"
   ]
  },
  {
   "cell_type": "code",
   "execution_count": 175,
   "metadata": {},
   "outputs": [
    {
     "data": {
      "text/plain": [
       "(1000,)"
      ]
     },
     "execution_count": 175,
     "metadata": {},
     "output_type": "execute_result"
    }
   ],
   "source": [
    "b.shape"
   ]
  },
  {
   "cell_type": "code",
   "execution_count": 176,
   "metadata": {},
   "outputs": [
    {
     "data": {
      "text/plain": [
       "(1000,)"
      ]
     },
     "execution_count": 176,
     "metadata": {},
     "output_type": "execute_result"
    }
   ],
   "source": [
    "c.shape"
   ]
  },
  {
   "cell_type": "code",
   "execution_count": 177,
   "metadata": {},
   "outputs": [],
   "source": [
    "np.savetxt(\"xdata.txt.gz\", X)"
   ]
  },
  {
   "cell_type": "code",
   "execution_count": 194,
   "metadata": {},
   "outputs": [],
   "source": [
    "np.savez_compressed(\"xdata\", X)"
   ]
  },
  {
   "cell_type": "code",
   "execution_count": 196,
   "metadata": {},
   "outputs": [
    {
     "name": "stdout",
     "output_type": "stream",
     "text": [
      "-rw-r--r-- 1 shei shei   8K Jun 13 11:35 xdata.npz\n",
      "-rw-r--r-- 1 shei shei 245K Jun 13 11:29 xdata.txt\n",
      "-rw-r--r-- 1 shei shei  10K Jun 13 11:31 xdata.txt.gz\n"
     ]
    }
   ],
   "source": [
    "%ls  -al --block-size=K | grep xdata"
   ]
  },
  {
   "cell_type": "code",
   "execution_count": 192,
   "metadata": {},
   "outputs": [],
   "source": []
  },
  {
   "cell_type": "code",
   "execution_count": null,
   "metadata": {},
   "outputs": [],
   "source": []
  }
 ],
 "metadata": {
  "celltoolbar": "Slideshow",
  "kernelspec": {
   "display_name": "sci_comp",
   "language": "python",
   "name": "python3"
  },
  "language_info": {
   "codemirror_mode": {
    "name": "ipython",
    "version": 3
   },
   "file_extension": ".py",
   "mimetype": "text/x-python",
   "name": "python",
   "nbconvert_exporter": "python",
   "pygments_lexer": "ipython3",
   "version": "3.10.11"
  },
  "vscode": {
   "interpreter": {
    "hash": "262e86344d83e0509dcba092caf8afa2285d16567665f24791254f5772cf312a"
   }
  }
 },
 "nbformat": 4,
 "nbformat_minor": 4
}
