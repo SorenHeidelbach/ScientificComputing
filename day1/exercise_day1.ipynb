{
 "cells": [
  {
   "cell_type": "code",
   "execution_count": 16,
   "metadata": {},
   "outputs": [
    {
     "data": {
      "text/plain": [
       "[('Alpha Centauri A', 4.3, 0.26, 1.56),\n",
       " ('Alpha Centauri B', 4.3, 0.077, 0.45),\n",
       " ('Alpha Centauri C', 4.2, 1e-05, 6e-05),\n",
       " (\"Barnard's Star\", 6.0, 4e-05, 0.0005),\n",
       " ('Wolf 359', 7.7, 1e-06, 2e-05),\n",
       " ('BD +36 degrees 2147', 8.2, 0.0003, 0.006),\n",
       " ('Luyten 726-8 A', 8.4, 3e-06, 6e-05),\n",
       " ('Luyten 726-8 B', 8.4, 2e-06, 4e-05),\n",
       " ('Sirius A', 8.6, 1.0, 23.6),\n",
       " ('Sirius B', 8.6, 0.001, 0.003),\n",
       " ('Ross 154', 9.4, 2e-05, 0.0005)]"
      ]
     },
     "execution_count": 16,
     "metadata": {},
     "output_type": "execute_result"
    }
   ],
   "source": [
    "with open(\"stars.list\", \"r\") as f:\n",
    "    exec(f.read())\n",
    "data"
   ]
  },
  {
   "cell_type": "code",
   "execution_count": 13,
   "metadata": {},
   "outputs": [],
   "source": [
    "\n",
    "\n",
    "\n",
    "\n"
   ]
  },
  {
   "cell_type": "code",
   "execution_count": 14,
   "metadata": {},
   "outputs": [
    {
     "data": {
      "text/plain": [
       "[('Alpha Centauri A', 4.3, 0.26, 1.56),\n",
       " ('Alpha Centauri B', 4.3, 0.077, 0.45),\n",
       " ('Alpha Centauri C', 4.2, 1e-05, 6e-05),\n",
       " (\"Barnard's Star\", 6.0, 4e-05, 0.0005),\n",
       " ('Wolf 359', 7.7, 1e-06, 2e-05),\n",
       " ('BD +36 degrees 2147', 8.2, 0.0003, 0.006),\n",
       " ('Luyten 726-8 A', 8.4, 3e-06, 6e-05),\n",
       " ('Luyten 726-8 B', 8.4, 2e-06, 4e-05),\n",
       " ('Sirius A', 8.6, 1.0, 23.6),\n",
       " ('Sirius B', 8.6, 0.001, 0.003),\n",
       " ('Ross 154', 9.4, 2e-05, 0.0005)]"
      ]
     },
     "execution_count": 14,
     "metadata": {},
     "output_type": "execute_result"
    }
   ],
   "source": [
    "data"
   ]
  }
 ],
 "metadata": {
  "kernelspec": {
   "display_name": "sci_comp",
   "language": "python",
   "name": "python3"
  },
  "language_info": {
   "codemirror_mode": {
    "name": "ipython",
    "version": 3
   },
   "file_extension": ".py",
   "mimetype": "text/x-python",
   "name": "python",
   "nbconvert_exporter": "python",
   "pygments_lexer": "ipython3",
   "version": "3.10.11"
  },
  "orig_nbformat": 4,
  "vscode": {
   "interpreter": {
    "hash": "262e86344d83e0509dcba092caf8afa2285d16567665f24791254f5772cf312a"
   }
  }
 },
 "nbformat": 4,
 "nbformat_minor": 2
}
